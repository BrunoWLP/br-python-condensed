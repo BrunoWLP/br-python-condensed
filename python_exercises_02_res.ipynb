{
  "nbformat": 4,
  "nbformat_minor": 0,
  "metadata": {
    "colab": {
      "name": "python_exercises_02_res.ipynb",
      "provenance": [],
      "collapsed_sections": [],
      "include_colab_link": true
    },
    "kernelspec": {
      "name": "python3",
      "display_name": "Python 3"
    }
  },
  "cells": [
    {
      "cell_type": "markdown",
      "metadata": {
        "id": "view-in-github",
        "colab_type": "text"
      },
      "source": [
        "<a href=\"https://colab.research.google.com/github/BrunoWLP/br-python-condensed/blob/main/python_exercises_02_res.ipynb\" target=\"_parent\"><img src=\"https://colab.research.google.com/assets/colab-badge.svg\" alt=\"Open In Colab\"/></a>"
      ]
    },
    {
      "cell_type": "markdown",
      "metadata": {
        "id": "8YqaSZgXYJ5g"
      },
      "source": [
        "![](https://i.imgur.com/YX6UATs.png)\n"
      ]
    },
    {
      "cell_type": "markdown",
      "metadata": {
        "id": "hhUVzDipaGb9"
      },
      "source": [
        "### **Exercícios de Python - 2** \n",
        "\n",
        "\n",
        "\n"
      ]
    },
    {
      "cell_type": "markdown",
      "metadata": {
        "id": "c62cM2VlKFqN"
      },
      "source": [
        "1 - Faça um programa que leia um nome de usuário e a sua senha e não aceite a senha igual ao nome do usuário, mostrando uma mensagem de erro."
      ]
    },
    {
      "cell_type": "code",
      "metadata": {
        "id": "A3ajzaOSq69B",
        "colab": {
          "base_uri": "https://localhost:8080/"
        },
        "outputId": "d4180a72-8870-49b1-a0d4-864dc76f6c05"
      },
      "source": [
        "user = str(input(\"Digite um nome de usuário: \")).strip()\n",
        "pw = str(input(\"Digite uma senha: \"))\n",
        "\n",
        "while True:\n",
        "    if pw.lower() != user.lower():\n",
        "        print(\"Usuário e senha cadastrados com sucesso!\")\n",
        "        break\n",
        "    else:\n",
        "        pw = str(input(\"Digite uma senha diferente do nome de usuário: \"))\n"
      ],
      "execution_count": 17,
      "outputs": [
        {
          "output_type": "stream",
          "name": "stdout",
          "text": [
            "Digite um nome de usuário: AlunoAwari\n",
            "Digite uma senha: alunoawari\n",
            "Digite uma senha diferente do nome de usuário: Alunoawari\n",
            "Digite uma senha diferente do nome de usuário: ALUNOAWARI\n",
            "Digite uma senha diferente do nome de usuário: SenhaDiferente\n",
            "Usuário e senha cadastrados com sucesso!\n"
          ]
        }
      ]
    },
    {
      "cell_type": "markdown",
      "metadata": {
        "id": "qMGp-h8OaGqr"
      },
      "source": [
        "2 - Utilizando listas faça um programa que faça 5 perguntas para uma pessoa sobre um crime. As perguntas são:\n",
        "- \"Telefonou para a vítima?\"\n",
        "- \"Esteve no local do crime?\"\n",
        "- \"Mora perto da vítima?\"\n",
        "- \"Devia para a vítima?\"\n",
        "- \"Já trabalhou com a vítima?\" \\\n",
        "O programa deve no final emitir uma classificação sobre a participação da pessoa no crime. Se a pessoa responder positivamente a 2 questões ela deve ser classificada como \"Suspeita\", entre 3 e 4 como \"Cúmplice\" e 5 como \"Assassino\". Caso contrário, ele será classificado como \"Inocente\"."
      ]
    },
    {
      "cell_type": "code",
      "metadata": {
        "id": "kTg-D89NdCld",
        "colab": {
          "base_uri": "https://localhost:8080/"
        },
        "outputId": "360ca251-03c0-4805-cac6-c02389015324"
      },
      "source": [
        "perguntas = [\"Telefonou para a vítima?\", \"Esteve no local do crime?\", \"Mora perto da vítima?\", \"Devia para a vítima?\", \"Já trabalhou com a vítima?\"]\n",
        "contador = 0\n",
        "\n",
        "for p in perguntas:\n",
        "  resp = str(input(f\"{p} [S/N]: \")).strip()[0]\n",
        "  while True:        \n",
        "      if resp in 'Ss':\n",
        "          contador += 1\n",
        "          break\n",
        "      elif resp in 'Nn':\n",
        "          break\n",
        "      else:\n",
        "          resp = str(input(\"Responda com S ou N: \"))\n",
        "\n",
        "print()\n",
        "print(\"Classificação atribuída: \", end=\"\")\n",
        "if contador == 5:\n",
        "  print(\"Assassino(a)\")\n",
        "elif 3 <= contador <= 4:\n",
        "  print(\"Cúmplice\")\n",
        "elif contador == 2:\n",
        "  print(\"Suspeita\")\n",
        "else:\n",
        "  print(\"Inocente\")\n"
      ],
      "execution_count": 24,
      "outputs": [
        {
          "output_type": "stream",
          "name": "stdout",
          "text": [
            "Telefonou para a vítima? [S/N]: Nao\n",
            "Esteve no local do crime? [S/N]: SIM\n",
            "Mora perto da vítima? [S/N]: n\n",
            "Devia para a vítima? [S/N]: s\n",
            "Já trabalhou com a vítima? [S/N]: não\n",
            "\n",
            "Classificação atribuída: Suspeita\n"
          ]
        }
      ]
    },
    {
      "cell_type": "markdown",
      "metadata": {
        "id": "FTK9nE4pdB1D"
      },
      "source": [
        "3 - A lista abaixo possui nomes de alunos de uma classe. Crie um loop que imprima '{nome} é aluno da classe'\n"
      ]
    },
    {
      "cell_type": "code",
      "metadata": {
        "id": "nW4SbDxTmx4t",
        "colab": {
          "base_uri": "https://localhost:8080/"
        },
        "outputId": "2c0095e5-6d0a-4bba-a8bd-8b0999c3f8d9"
      },
      "source": [
        "# ['Maria','João','Marcelo','Jonas','Laura','Luana']\n",
        "\n",
        "alunos = ['Maria','João','Marcelo','Jonas','Laura','Luana']\n",
        "for nome in alunos:\n",
        "  print(f\"{nome} é aluno da classe\")\n",
        "  "
      ],
      "execution_count": 25,
      "outputs": [
        {
          "output_type": "stream",
          "name": "stdout",
          "text": [
            "Maria é aluno da classe\n",
            "João é aluno da classe\n",
            "Marcelo é aluno da classe\n",
            "Jonas é aluno da classe\n",
            "Laura é aluno da classe\n",
            "Luana é aluno da classe\n"
          ]
        }
      ]
    },
    {
      "cell_type": "code",
      "metadata": {
        "id": "0sRr8MXCpbGP",
        "colab": {
          "base_uri": "https://localhost:8080/"
        },
        "outputId": "ba66c315-65ea-4c40-b7a2-799dff70b07d"
      },
      "source": [
        "for nome in alunos:\n",
        "  print(f\"{nome}, \", end=\"\")\n",
        "print(\"são alunos da classe\")"
      ],
      "execution_count": 27,
      "outputs": [
        {
          "output_type": "stream",
          "name": "stdout",
          "text": [
            "Maria, João, Marcelo, Jonas, Laura, Luana, são alunos da classe\n"
          ]
        }
      ]
    },
    {
      "cell_type": "markdown",
      "metadata": {
        "id": "_HbJNv8MaG4g"
      },
      "source": [
        "4 - Utilizando-se da mesma lista trabalhada acima e a lista dada abaixo, que contem as idades dos alunos, realize um loop que faça a iteração com as duas listas printando \"{nome} tem {idade} anos\".\n",
        "Dica: utilize *zip*()"
      ]
    },
    {
      "cell_type": "code",
      "metadata": {
        "id": "LJDxmAbJeO9V"
      },
      "source": [
        "[23,34,42,54,26,27]"
      ],
      "execution_count": null,
      "outputs": []
    },
    {
      "cell_type": "code",
      "metadata": {
        "id": "Kq1Lc7Ukps-V",
        "colab": {
          "base_uri": "https://localhost:8080/"
        },
        "outputId": "1264e05b-cb54-4958-de68-464bc388f834"
      },
      "source": [
        "aluno = ['Maria','João','Marcelo','Jonas','Laura','Luana']\n",
        "idade = [23, 34, 42, 54, 26, 27]\n",
        "\n",
        "dados = zip(aluno, idade)\n",
        "dados = tuple(dados) # transforma em tupla pra conseguir visualizar\n",
        "print(dados)"
      ],
      "execution_count": 47,
      "outputs": [
        {
          "output_type": "stream",
          "name": "stdout",
          "text": [
            "(('Maria', 23), ('João', 34), ('Marcelo', 42), ('Jonas', 54), ('Laura', 26), ('Luana', 27))\n"
          ]
        }
      ]
    },
    {
      "cell_type": "code",
      "metadata": {
        "colab": {
          "base_uri": "https://localhost:8080/"
        },
        "id": "MzkIhpR0HuKn",
        "outputId": "55d2e3a5-e627-473a-8674-cafd24e18702"
      },
      "source": [
        "for pessoa in dados:\n",
        "  print(f\"{pessoa[0]} tem {pessoa[1]} anos\")\n",
        "  "
      ],
      "execution_count": 48,
      "outputs": [
        {
          "output_type": "stream",
          "name": "stdout",
          "text": [
            "Maria tem 23 anos\n",
            "João tem 34 anos\n",
            "Marcelo tem 42 anos\n",
            "Jonas tem 54 anos\n",
            "Laura tem 26 anos\n",
            "Luana tem 27 anos\n"
          ]
        }
      ]
    },
    {
      "cell_type": "markdown",
      "metadata": {
        "id": "0tkhm6EUaG1u"
      },
      "source": [
        "5 - Transforme as duas listas anteriores em um dicionário cuja chave é o nome e o valor é a idade."
      ]
    },
    {
      "cell_type": "code",
      "metadata": {
        "id": "MNINJ32eU45M",
        "colab": {
          "base_uri": "https://localhost:8080/"
        },
        "outputId": "6f6a6a25-2ef1-415c-f75f-cf9a014d36b3"
      },
      "source": [
        "dict(dados)"
      ],
      "execution_count": 50,
      "outputs": [
        {
          "output_type": "execute_result",
          "data": {
            "text/plain": [
              "{'Jonas': 54, 'João': 34, 'Laura': 26, 'Luana': 27, 'Marcelo': 42, 'Maria': 23}"
            ]
          },
          "metadata": {},
          "execution_count": 50
        }
      ]
    },
    {
      "cell_type": "markdown",
      "metadata": {
        "id": "Lm1tOKThnU42"
      },
      "source": [
        "Exercícios adaptados de Python Brasil"
      ]
    }
  ]
}
