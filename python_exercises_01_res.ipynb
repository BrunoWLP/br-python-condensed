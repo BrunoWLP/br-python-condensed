{
  "nbformat": 4,
  "nbformat_minor": 0,
  "metadata": {
    "colab": {
      "name": "python_exercises_01_res.ipynb",
      "provenance": [],
      "collapsed_sections": [],
      "include_colab_link": true
    },
    "kernelspec": {
      "name": "python3",
      "display_name": "Python 3"
    }
  },
  "cells": [
    {
      "cell_type": "markdown",
      "metadata": {
        "id": "view-in-github",
        "colab_type": "text"
      },
      "source": [
        "<a href=\"https://colab.research.google.com/github/BrunoWLP/br-python-condensed/blob/main/python_exercises_01_res.ipynb\" target=\"_parent\"><img src=\"https://colab.research.google.com/assets/colab-badge.svg\" alt=\"Open In Colab\"/></a>"
      ]
    },
    {
      "cell_type": "markdown",
      "metadata": {
        "id": "8YqaSZgXYJ5g"
      },
      "source": [
        "![](https://i.imgur.com/YX6UATs.png)\n"
      ]
    },
    {
      "cell_type": "markdown",
      "metadata": {
        "id": "hhUVzDipaGb9"
      },
      "source": [
        "### **Exercícios de Python - 1** \n",
        "\n",
        "\n",
        "\n"
      ]
    },
    {
      "cell_type": "markdown",
      "metadata": {
        "id": "qMGp-h8OaGqr"
      },
      "source": [
        "1 - Faça um programa, com uma função que necessite de três argumentos, e que forneça a soma desses três argumentos."
      ]
    },
    {
      "cell_type": "code",
      "metadata": {
        "id": "kTg-D89NdCld",
        "colab": {
          "base_uri": "https://localhost:8080/"
        },
        "outputId": "916c7a8d-7759-42e9-903d-c5fe9c3026e6"
      },
      "source": [
        "def soma(a, b, c):\n",
        "  s = a + b + c\n",
        "  return s\n",
        "\n",
        "\n",
        "a = int(input(\"Insira um valor para A: \"))\n",
        "b = int(input(\"Insira um valor para B: \"))\n",
        "c = int(input(\"Insira um valor para C: \"))\n",
        "print(f\"A soma entre {a}, {b} e {c} é {soma(a, b, c)}\")"
      ],
      "execution_count": 17,
      "outputs": [
        {
          "output_type": "stream",
          "name": "stdout",
          "text": [
            "Insira um valor para A: 1\n",
            "Insira um valor para B: 1\n",
            "Insira um valor para C: 1\n",
            "A soma entre 1, 1 e 1 é 3\n"
          ]
        }
      ]
    },
    {
      "cell_type": "markdown",
      "metadata": {
        "id": "KdLXZftIaG60"
      },
      "source": [
        "2 - Faça um Programa que peça a temperatura em graus Celsius, transforme e mostre em graus Fahrenheit. \\\n",
        "*Dica: procure a fórmula para essa conversão na internet*"
      ]
    },
    {
      "cell_type": "code",
      "metadata": {
        "id": "MNINJ32eU45M",
        "colab": {
          "base_uri": "https://localhost:8080/"
        },
        "outputId": "6f86436d-92ab-4ebd-94c8-7544e03bcb43"
      },
      "source": [
        "c = input(\"Valor da temperatura em °C para converter para °F: \").replace(\",\", \".\")\n",
        "c = float(c)\n",
        "\n",
        "f = (9/5*c) + 32\n",
        "\n",
        "print(f\"{c}°C -> {f:.1f}°F\")"
      ],
      "execution_count": 19,
      "outputs": [
        {
          "output_type": "stream",
          "name": "stdout",
          "text": [
            "Valor da temperatura em °C para converter para °F: 25.9\n",
            "25.9°C -> 78.6°F\n"
          ]
        }
      ]
    },
    {
      "cell_type": "markdown",
      "metadata": {
        "id": "4OETBVgmaGzX"
      },
      "source": [
        "3 - Faça um Programa que peça um número inteiro e determine se ele é par ou impar. Dica: utilize o operador módulo (resto da divisão)."
      ]
    },
    {
      "cell_type": "code",
      "metadata": {
        "id": "WbzCimFZVSr1",
        "colab": {
          "base_uri": "https://localhost:8080/"
        },
        "outputId": "b1b0a367-5e40-4ff4-af15-0596c2dff923"
      },
      "source": [
        "n = int(input(\"Digite um valor inteiro: \"))\n",
        "if n % 2 == 0:\n",
        "  print(f\"O número {n} é par.\")\n",
        "else:\n",
        "  print(f\"O número {n} é ímpar.\")"
      ],
      "execution_count": 14,
      "outputs": [
        {
          "output_type": "stream",
          "name": "stdout",
          "text": [
            "Digite um valor inteiro: 5\n",
            "O número 5 é ímpar.\n"
          ]
        }
      ]
    },
    {
      "cell_type": "markdown",
      "metadata": {
        "id": "7zPJ8sgPaGw0"
      },
      "source": [
        "4 - Faça um programa que peça o tamanho de um arquivo para download (em MB) e a velocidade de um link de Internet (em Mbps), calcule e informe o tempo aproximado de download do arquivo usando este link (em minutos)."
      ]
    },
    {
      "cell_type": "code",
      "metadata": {
        "id": "l4qtSxU7XquB",
        "colab": {
          "base_uri": "https://localhost:8080/"
        },
        "outputId": "3569e6b1-3003-4029-f088-db3fc0d7a083"
      },
      "source": [
        "tam = int(input(\"Tamanho do arquivo (em MB): \"))\n",
        "vel = int(input(\"Velocidade de conexão (em Mbps): \"))\n",
        "\n",
        "# 1 MB (Megabyte) = 8 Mb (Megabits)\n",
        "\n",
        "tempo = (tam * 8) / vel # tempo em segundos\n",
        "tempo /= 60 # tempo em minutos\n",
        "\n",
        "print(f\"Para o arquivo de {tam} MB e com conexão de {vel} Mbps, \"\n",
        "      f\"o tempo de download será de {tempo:.2f} minuto(s)\")\n",
        "\n"
      ],
      "execution_count": 37,
      "outputs": [
        {
          "output_type": "stream",
          "name": "stdout",
          "text": [
            "Tamanho do arquivo (em MB): 388\n",
            "Velocidade de conexão (em Mbps): 55\n",
            "Para o arquivo de 388 MB e com conexão de 55 Mbps, o tempo de download será de 0.94 minuto(s)\n"
          ]
        }
      ]
    },
    {
      "cell_type": "markdown",
      "metadata": {
        "id": "0tkhm6EUaG1u"
      },
      "source": [
        "5 - Faça um programa para a leitura de duas notas parciais de um aluno. O programa deve calcular a média alcançada por aluno e apresentar:\n",
        "- A mensagem \"Aprovado\", se a média alcançada for maior ou igual a sete;\n",
        "- A mensagem \"Reprovado\", se a média for menor do que sete;\n",
        "- A mensagem \"Aprovado com Distinção\", se a média for igual a dez."
      ]
    },
    {
      "cell_type": "code",
      "metadata": {
        "id": "990mQ6UhdwKl",
        "colab": {
          "base_uri": "https://localhost:8080/"
        },
        "outputId": "d9a7eeff-718e-43af-e47e-35253499c759"
      },
      "source": [
        "n1 = input(\"Nota 1: \").replace(\",\", \".\")\n",
        "n2 = input(\"Nota 2: \").replace(\",\", \".\")\n",
        "media = (float(n1) + float(n2)) / 2\n",
        "\n",
        "print(f\"Média: {media:.1f}\")\n",
        "print(\"Situação do aluno(a): \", end=\"\")\n",
        "if media == 10:\n",
        "  print(\"APROVADO COM DISTINÇÃO\")\n",
        "elif 7 <= media < 10:\n",
        "  print(\"APROVADO\")\n",
        "else:\n",
        "  print(\"REPROVADO\")\n"
      ],
      "execution_count": 30,
      "outputs": [
        {
          "output_type": "stream",
          "name": "stdout",
          "text": [
            "Nota 1: 8\n",
            "Nota 2: 8.5\n",
            "Média: 8.2\n",
            "Situação do aluno(a): APROVADO\n"
          ]
        }
      ]
    },
    {
      "cell_type": "markdown",
      "metadata": {
        "id": "Lm1tOKThnU42"
      },
      "source": [
        "Exercícios adaptados de Python Brasil"
      ]
    }
  ]
}